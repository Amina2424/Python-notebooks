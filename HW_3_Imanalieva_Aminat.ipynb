{
  "cells": [
    {
      "cell_type": "markdown",
      "source": [
        "## Загрузка файлика, полученного после фильтрации по колонке PASS (output.vcf)"
      ],
      "metadata": {
        "id": "beibhkUMWjT6"
      },
      "id": "beibhkUMWjT6"
    },
    {
      "cell_type": "code",
      "source": [
        "from google.colab import drive\n",
        "drive.mount('/content/drive')\n",
        "\n",
        "! gdown --fuzzy 'https://drive.google.com/file/d/13aRnxmOCbMN3O51ey4h4SBfCofZ3FOiP/view?usp=drive_link'"
      ],
      "metadata": {
        "colab": {
          "base_uri": "https://localhost:8080/"
        },
        "id": "If7nJiZxJFDw",
        "outputId": "eca241aa-1743-4f57-e059-af58d4e7dfc4"
      },
      "id": "If7nJiZxJFDw",
      "execution_count": 61,
      "outputs": [
        {
          "output_type": "stream",
          "name": "stdout",
          "text": [
            "Drive already mounted at /content/drive; to attempt to forcibly remount, call drive.mount(\"/content/drive\", force_remount=True).\n",
            "Downloading...\n",
            "From: https://drive.google.com/uc?id=13aRnxmOCbMN3O51ey4h4SBfCofZ3FOiP\n",
            "To: /content/output.vcf\n",
            "100% 1.88M/1.88M [00:00<00:00, 103MB/s]\n"
          ]
        }
      ]
    },
    {
      "cell_type": "code",
      "source": [
        "! tail output.vcf"
      ],
      "metadata": {
        "colab": {
          "base_uri": "https://localhost:8080/"
        },
        "id": "umhaP55pKm_8",
        "outputId": "4cab38f4-5bf9-46ec-b56f-0bc12cca353b"
      },
      "id": "umhaP55pKm_8",
      "execution_count": 62,
      "outputs": [
        {
          "output_type": "stream",
          "name": "stdout",
          "text": [
            "chrX\t154652556\t.\tC\tA\t69\tPASS\t.\tGT:GQ:DP:AD:VAF:PL\t1/1:67:204:1,203:0.995098:69,72,0\n",
            "chrX\t154653251\t.\tC\tG\t69\tPASS\t.\tGT:GQ:DP:AD:VAF:PL\t1/1:65:89:0,89:1:68,67,0\n",
            "chrX\t154653499\t.\tC\tT\t32.8\tPASS\t.\tGT:GQ:DP:AD:VAF:PL\t1/1:16:6:0,6:1:32,15,0\n",
            "chrX\t154680220\t.\tC\tG\t56\tPASS\t.\tGT:GQ:DP:AD:VAF:PL\t0/1:46:154:65,87:0.564935:56,0,46\n",
            "chrX\t154766321\t.\tG\tT\t70.2\tPASS\t.\tGT:GQ:DP:AD:VAF:PL\t1/1:69:252:0,252:1:70,76,0\n",
            "chrX\t154791839\t.\tC\tA\t50\tPASS\t.\tGT:GQ:DP:AD:VAF:PL\t0/1:50:179:102,77:0.430168:50,0,63\n",
            "chrX\t154929926\t.\tT\tG\t50.1\tPASS\t.\tGT:GQ:DP:AD:VAF:PL\t0/1:49:76:43,33:0.434211:50,0,57\n",
            "chrY\t14840455\t.\tT\tC\t28.2\tPASS\t.\tGT:GQ:DP:AD:VAF:PL\t1/1:24:9:0,9:1:28,26,0\n",
            "chrY\t14840467\t.\tT\tC\t24.8\tPASS\t.\tGT:GQ:DP:AD:VAF:PL\t1/1:23:10:0,10:1:24,28,0\n",
            "chrY\t14840785\t.\tC\tT\t22.9\tPASS\t.\tGT:GQ:DP:AD:VAF:PL\t1/1:16:29:0,29:1:22,16,0\n"
          ]
        }
      ]
    },
    {
      "cell_type": "code",
      "source": [
        "# Основные заголовки"
      ],
      "metadata": {
        "id": "7_0cfYqmWy3y"
      },
      "id": "7_0cfYqmWy3y",
      "execution_count": 97,
      "outputs": []
    },
    {
      "cell_type": "code",
      "source": [
        "! cat output.vcf | head -n 5"
      ],
      "metadata": {
        "colab": {
          "base_uri": "https://localhost:8080/"
        },
        "id": "-FeRrybxRubj",
        "outputId": "02ab5490-372d-47aa-c24e-f975b375d2bd"
      },
      "id": "-FeRrybxRubj",
      "execution_count": 74,
      "outputs": [
        {
          "output_type": "stream",
          "name": "stdout",
          "text": [
            "##fileformat=VCFv4.2\n",
            "##FILTER=<ID=PASS,Description=\"All filters passed\">\n",
            "##FILTER=<ID=RefCall,Description=\"Genotyping model thinks this site is reference.\">\n",
            "##FILTER=<ID=LowQual,Description=\"Confidence in this variant being real is below calling threshold.\">\n",
            "##FILTER=<ID=NoCall,Description=\"Site has depth=0 resulting in no call.\">\n"
          ]
        }
      ]
    },
    {
      "cell_type": "code",
      "source": [
        "! cat output.vcf | wc -l # сколько первично получилось вариантов"
      ],
      "metadata": {
        "colab": {
          "base_uri": "https://localhost:8080/"
        },
        "id": "WaChuZuaR4fE",
        "outputId": "ffd1f04b-04bd-41f5-e21e-36eb14177d57"
      },
      "id": "WaChuZuaR4fE",
      "execution_count": 76,
      "outputs": [
        {
          "output_type": "stream",
          "name": "stdout",
          "text": [
            "22935\n"
          ]
        }
      ]
    },
    {
      "cell_type": "markdown",
      "id": "f1467d33",
      "metadata": {
        "id": "f1467d33"
      },
      "source": [
        "## Аннотация с помощью SnpEff с добавлением иноформации от ClinVar"
      ]
    },
    {
      "cell_type": "markdown",
      "source": [
        "Загрузила отфильтрованный уже после аннотации SnpEff файл"
      ],
      "metadata": {
        "id": "NG9vojNyW-w_"
      },
      "id": "NG9vojNyW-w_"
    },
    {
      "cell_type": "code",
      "source": [
        "! gdown --fuzzy 'https://drive.google.com/file/d/16ujzXyxWo7PR2eB9tR-9QUn0PolfWF40/view?usp=drive_link'"
      ],
      "metadata": {
        "colab": {
          "base_uri": "https://localhost:8080/"
        },
        "id": "lTUbuDtCLnoD",
        "outputId": "28588789-9687-4d3b-d70f-a8148002abf6"
      },
      "id": "lTUbuDtCLnoD",
      "execution_count": 78,
      "outputs": [
        {
          "output_type": "stream",
          "name": "stdout",
          "text": [
            "Downloading...\n",
            "From: https://drive.google.com/uc?id=16ujzXyxWo7PR2eB9tR-9QUn0PolfWF40\n",
            "To: /content/annotated_output.vcf\n",
            "\r  0% 0.00/5.65M [00:00<?, ?B/s]\r100% 5.65M/5.65M [00:00<00:00, 185MB/s]\n"
          ]
        }
      ]
    },
    {
      "cell_type": "code",
      "execution_count": 79,
      "id": "14867ab7",
      "metadata": {
        "colab": {
          "base_uri": "https://localhost:8080/"
        },
        "id": "14867ab7",
        "outputId": "6e0f1433-c2b4-4803-8eee-b16e1453ac15"
      },
      "outputs": [
        {
          "output_type": "stream",
          "name": "stdout",
          "text": [
            "chrX\t154652556\t.\tC\tA\t69.0\tPASS\tANN=A|synonymous_variant|LOW|CTAG2|CTAG2|transcript|NM_020994.5|protein_coding|2/2|c.345G>T|p.Pro115Pro|409/988|345/633|115/210||\tGT:GQ:DP:AD:VAF:PL\t1/1:67:204:1,203:0.995098:69,72,0\n",
            "chrX\t154653251\t.\tC\tG\t69.0\tPASS\tANN=G|missense_variant|MODERATE|CTAG2|CTAG2|transcript|NM_020994.5|protein_coding|1/2|c.265G>C|p.Glu89Gln|329/988|265/633|89/210||\tGT:GQ:DP:AD:VAF:PL\t1/1:65:89:0,89:1:68,67,0\n",
            "chrX\t154653499\t.\tC\tT\t32.8\tPASS\tANN=T|missense_variant|MODERATE|CTAG2|CTAG2|transcript|NM_020994.5|protein_coding|1/2|c.17G>A|p.Arg6Gln|81/988|17/633|6/210||\tGT:GQ:DP:AD:VAF:PL\t1/1:16:6:0,6:1:32,15,0\n",
            "chrX\t154680220\t.\tC\tG\t56.0\tPASS\tANN=G|missense_variant|MODERATE|GAB3|GAB3|transcript|NM_001081573.3|protein_coding|9/10|c.1559G>C|p.Ser520Thr|1611/4744|1559/1764|520/587||\tGT:GQ:DP:AD:VAF:PL\t0/1:46:154:65,87:0.564935:56,0,46\n",
            "chrX\t154766321\t.\tG\tT\t70.2\tPASS\tANN=T|synonymous_variant|LOW|DKC1|DKC1|transcript|NM_001363.5|protein_coding|5/15|c.369G>T|p.Thr123Thr|471/2469|369/1545|123/514||,T|upstream_gene_variant|MODIFIER|SNORA36A|SNORA36A|transcript|NR_002969.1|pseudogene||n.-2207G>T|||||2207|,T|upstream_gene_variant|MODIFIER|MIR664B|MIR664B|transcript|NR_049842.1|pseudogene||n.-2275G>T|||||2275|\tGT:GQ:DP:AD:VAF:PL\t1/1:69:252:0,252:1:70,76,0\n",
            "chrX\t154791839\t.\tC\tA\t50.0\tPASS\tANN=A|synonymous_variant|LOW|MPP1|MPP1|transcript|NM_002436.4|protein_coding|3/12|c.255G>T|p.Thr85Thr|367/2006|255/1401|85/466||\tGT:GQ:DP:AD:VAF:PL\t0/1:50:179:102,77:0.430168:50,0,63\n",
            "chrX\t154929926\t.\tT\tG\t50.1\tPASS\tANN=G|synonymous_variant|LOW|F8|F8|transcript|NM_000132.3|protein_coding|14/26|c.3864A>C|p.Ser1288Ser|4035/9035|3864/7056|1288/2351||\tGT:GQ:DP:AD:VAF:PL\t0/1:49:76:43,33:0.434211:50,0,57\n",
            "chrY\t14840455\t.\tT\tC\t28.2\tPASS\tANN=C|synonymous_variant|LOW|NLGN4Y|NLGN4Y|transcript|NM_001365584.1|protein_coding|7/7|c.1704T>C|p.His568His|2223/7421|1704/2511|568/836||\tGT:GQ:DP:AD:VAF:PL\t1/1:24:9:0,9:1:28,26,0\n",
            "chrY\t14840467\t.\tT\tC\t24.8\tPASS\tANN=C|synonymous_variant|LOW|NLGN4Y|NLGN4Y|transcript|NM_001365584.1|protein_coding|7/7|c.1716T>C|p.Asn572Asn|2235/7421|1716/2511|572/836||\tGT:GQ:DP:AD:VAF:PL\t1/1:23:10:0,10:1:24,28,0\n",
            "chrY\t14840785\t.\tC\tT\t22.9\tPASS\tANN=T|synonymous_variant|LOW|NLGN4Y|NLGN4Y|transcript|NM_001365584.1|protein_coding|7/7|c.2034C>T|p.Pro678Pro|2553/7421|2034/2511|678/836||\tGT:GQ:DP:AD:VAF:PL\t1/1:16:29:0,29:1:22,16,0\n"
          ]
        }
      ],
      "source": [
        "! tail annotated_output.vcf"
      ]
    },
    {
      "cell_type": "markdown",
      "id": "0e277a29",
      "metadata": {
        "id": "0e277a29"
      },
      "source": [
        "### ClinVar"
      ]
    },
    {
      "cell_type": "code",
      "source": [
        "#Так выглядит файлик после добавления информации из ClinVar"
      ],
      "metadata": {
        "id": "0I4QtSfMXFAw"
      },
      "id": "0I4QtSfMXFAw",
      "execution_count": 98,
      "outputs": []
    },
    {
      "cell_type": "code",
      "source": [
        "! tail clinvar_annotation.vcf"
      ],
      "metadata": {
        "colab": {
          "base_uri": "https://localhost:8080/"
        },
        "id": "1FC4BnH1Pldb",
        "outputId": "7e3336f0-d01f-48a8-ede9-a8c1a9c0a1f7"
      },
      "id": "1FC4BnH1Pldb",
      "execution_count": 65,
      "outputs": [
        {
          "output_type": "stream",
          "name": "stdout",
          "text": [
            "chrX\t154652556\t770031\tC\tA\t69.0\tPASS\tANN=A|synonymous_variant|LOW|CTAG2|CTAG2|transcript|NM_020994.5|protein_coding|2/2|c.345G>T|p.Pro115Pro|409/988|345/633|115/210||;ALLELEID=706177;CLNDISDB=MedGen:C3661900;CLNDN=not_provided;CLNHGVS=NC_000023.11:g.154652556C>A;CLNREVSTAT=criteria_provided,_single_submitter;CLNSIG=Benign;CLNVC=single_nucleotide_variant;CLNVCSO=SO:0001483;GENEINFO=CTAG2:30848;MC=SO:0001819|synonymous_variant;ORIGIN=1;RS=4326559\tGT:GQ:DP:AD:VAF:PL\t1/1:67:204:1,203:0.995098:69,72,0\n",
            "chrX\t154653251\t770030\tC\tG\t69.0\tPASS\tANN=G|missense_variant|MODERATE|CTAG2|CTAG2|transcript|NM_020994.5|protein_coding|1/2|c.265G>C|p.Glu89Gln|329/988|265/633|89/210||;ALLELEID=706179;CLNDISDB=MedGen:C3661900;CLNDN=not_provided;CLNHGVS=NC_000023.11:g.154653251C>G;CLNREVSTAT=criteria_provided,_single_submitter;CLNSIG=Benign;CLNVC=single_nucleotide_variant;CLNVCSO=SO:0001483;GENEINFO=CTAG2:30848;MC=SO:0001583|missense_variant;ORIGIN=1;RS=17328091\tGT:GQ:DP:AD:VAF:PL\t1/1:65:89:0,89:1:68,67,0\n",
            "chrX\t154653499\t770029\tC\tT\t32.8\tPASS\tANN=T|missense_variant|MODERATE|CTAG2|CTAG2|transcript|NM_020994.5|protein_coding|1/2|c.17G>A|p.Arg6Gln|81/988|17/633|6/210||;ALLELEID=706180;CLNDISDB=MedGen:C3661900;CLNDN=not_provided;CLNHGVS=NC_000023.11:g.154653499C>T;CLNREVSTAT=criteria_provided,_single_submitter;CLNSIG=Benign;CLNVC=single_nucleotide_variant;CLNVCSO=SO:0001483;GENEINFO=CTAG2:30848;MC=SO:0001583|missense_variant;ORIGIN=1;RS=17855367\tGT:GQ:DP:AD:VAF:PL\t1/1:16:6:0,6:1:32,15,0\n",
            "chrX\t154680220\t779994\tC\tG\t56.0\tPASS\tANN=G|missense_variant|MODERATE|GAB3|GAB3|transcript|NM_001081573.3|protein_coding|9/10|c.1559G>C|p.Ser520Thr|1611/4744|1559/1764|520/587||;AF_ESP=0.00066;AF_EXAC=0.00802;AF_TGP=0.02331;ALLELEID=717733;CLNDISDB=MedGen:C3661900;CLNDN=not_provided;CLNHGVS=NC_000023.11:g.154680220C>G;CLNREVSTAT=criteria_provided,_multiple_submitters,_no_conflicts;CLNSIG=Benign;CLNVC=single_nucleotide_variant;CLNVCSO=SO:0001483;GENEINFO=GAB3:139716;MC=SO:0001583|missense_variant,SO:0001619|non-coding_transcript_variant,SO:0001627|intron_variant;ORIGIN=1;RS=148492317\tGT:GQ:DP:AD:VAF:PL\t0/1:46:154:65,87:0.564935:56,0,46\n",
            "chrX\t154766321\t166994\tG\tT\t70.2\tPASS\tANN=T|synonymous_variant|LOW|DKC1|DKC1|transcript|NM_001363.5|protein_coding|5/15|c.369G>T|p.Thr123Thr|471/2469|369/1545|123/514||,T|upstream_gene_variant|MODIFIER|SNORA36A|SNORA36A|transcript|NR_002969.1|pseudogene||n.-2207G>T|||||2207|,T|upstream_gene_variant|MODIFIER|MIR664B|MIR664B|transcript|NR_049842.1|pseudogene||n.-2275G>T|||||2275|;AF_ESP=0.99186;AF_EXAC=0.99744;AF_TGP=0.99258;ALLELEID=177673;CLNDISDB=MedGen:C3661900|MONDO:MONDO:0010584,MedGen:C1148551,OMIM:305000|MedGen:CN169374|MONDO:MONDO:0015780,MedGen:C0265965,OMIM:PS127550,Orphanet:1775;CLNDN=not_provided|Dyskeratosis_congenita,_X-linked|not_specified|Dyskeratosis_congenita;CLNHGVS=NC_000023.11:g.154766321G>T;CLNREVSTAT=criteria_provided,_multiple_submitters,_no_conflicts;CLNSIG=Benign/Likely_benign;CLNVC=single_nucleotide_variant;CLNVCSO=SO:0001483;CLNVI=ClinGen:CA179969;GENEINFO=DKC1:1736;MC=SO:0001619|non-coding_transcript_variant,SO:0001819|synonymous_variant;ORIGIN=1;RS=2728532\tGT:GQ:DP:AD:VAF:PL\t1/1:69:252:0,252:1:70,76,0\n",
            "chrX\t154791839\t.\tC\tA\t50.0\tPASS\tANN=A|synonymous_variant|LOW|MPP1|MPP1|transcript|NM_002436.4|protein_coding|3/12|c.255G>T|p.Thr85Thr|367/2006|255/1401|85/466||\tGT:GQ:DP:AD:VAF:PL\t0/1:50:179:102,77:0.430168:50,0,63\n",
            "chrX\t154929926\t41000\tT\tG\t50.1\tPASS\tANN=G|synonymous_variant|LOW|F8|F8|transcript|NM_000132.3|protein_coding|14/26|c.3864A>C|p.Ser1288Ser|4035/9035|3864/7056|1288/2351||;AF_ESP=0.08010;AF_EXAC=0.13923;AF_TGP=0.16053;ALLELEID=49422;CLNDISDB=MONDO:MONDO:0010602,MedGen:C0019069,OMIM:306700,Orphanet:98878|MedGen:CN169374|MedGen:C3661900;CLNDN=Hereditary_factor_VIII_deficiency_disease|not_specified|not_provided;CLNHGVS=NC_000023.11:g.154929926T>G;CLNREVSTAT=reviewed_by_expert_panel;CLNSIG=Benign;CLNVC=single_nucleotide_variant;CLNVCSO=SO:0001483;CLNVI=ClinGen:CA343867;GENEINFO=F8:2157;MC=SO:0001819|synonymous_variant;ORIGIN=1;RS=1800292\tGT:GQ:DP:AD:VAF:PL\t0/1:49:76:43,33:0.434211:50,0,57\n",
            "chrY\t14840455\t.\tT\tC\t28.2\tPASS\tANN=C|synonymous_variant|LOW|NLGN4Y|NLGN4Y|transcript|NM_001365584.1|protein_coding|7/7|c.1704T>C|p.His568His|2223/7421|1704/2511|568/836||\tGT:GQ:DP:AD:VAF:PL\t1/1:24:9:0,9:1:28,26,0\n",
            "chrY\t14840467\t.\tT\tC\t24.8\tPASS\tANN=C|synonymous_variant|LOW|NLGN4Y|NLGN4Y|transcript|NM_001365584.1|protein_coding|7/7|c.1716T>C|p.Asn572Asn|2235/7421|1716/2511|572/836||\tGT:GQ:DP:AD:VAF:PL\t1/1:23:10:0,10:1:24,28,0\n",
            "chrY\t14840785\t770316\tC\tT\t22.9\tPASS\tANN=T|synonymous_variant|LOW|NLGN4Y|NLGN4Y|transcript|NM_001365584.1|protein_coding|7/7|c.2034C>T|p.Pro678Pro|2553/7421|2034/2511|678/836||;AF_EXAC=0.00000;ALLELEID=706344;CLNDISDB=MedGen:C3661900;CLNDN=not_provided;CLNHGVS=NC_000024.10:g.14840785C>T;CLNREVSTAT=criteria_provided,_multiple_submitters,_no_conflicts;CLNSIG=Likely_benign;CLNVC=single_nucleotide_variant;CLNVCSO=SO:0001483;GENEINFO=NLGN4Y:22829;MC=SO:0001819|synonymous_variant;ORIGIN=1;RS=767683335\tGT:GQ:DP:AD:VAF:PL\t1/1:16:29:0,29:1:22,16,0\n"
          ]
        }
      ]
    },
    {
      "cell_type": "code",
      "source": [
        "cat clinvar_annotation.vcf | head -n 10"
      ],
      "metadata": {
        "colab": {
          "base_uri": "https://localhost:8080/"
        },
        "id": "Eb-dpkCRSVnv",
        "outputId": "9317f9fb-78b0-449f-b09d-c90a4f02513f"
      },
      "id": "Eb-dpkCRSVnv",
      "execution_count": 80,
      "outputs": [
        {
          "output_type": "stream",
          "name": "stdout",
          "text": [
            "##fileformat=VCFv4.2\n",
            "##FILTER=<ID=PASS,Description=\"All filters passed\">\n",
            "##FILTER=<ID=RefCall,Description=\"Genotyping model thinks this site is reference.\">\n",
            "##FILTER=<ID=LowQual,Description=\"Confidence in this variant being real is below calling threshold.\">\n",
            "##FILTER=<ID=NoCall,Description=\"Site has depth=0 resulting in no call.\">\n",
            "##INFO=<ID=END,Number=1,Type=Integer,Description=\"End position (for use with symbolic alleles)\">\n",
            "##FORMAT=<ID=GT,Number=1,Type=String,Description=\"Genotype\">\n",
            "##FORMAT=<ID=GQ,Number=1,Type=Integer,Description=\"Conditional genotype quality\">\n",
            "##FORMAT=<ID=DP,Number=1,Type=Integer,Description=\"Read depth\">\n",
            "##FORMAT=<ID=MIN_DP,Number=1,Type=Integer,Description=\"Minimum DP observed within the GVCF block.\">\n"
          ]
        }
      ]
    },
    {
      "cell_type": "code",
      "source": [
        "! grep 'CLNSIG' clinvar_annotation.vcf | head -n 10"
      ],
      "metadata": {
        "colab": {
          "base_uri": "https://localhost:8080/"
        },
        "id": "82X9rwylSpn0",
        "outputId": "edafd098-ca10-4dc2-e45f-3038855290d2"
      },
      "id": "82X9rwylSpn0",
      "execution_count": 96,
      "outputs": [
        {
          "output_type": "stream",
          "name": "stdout",
          "text": [
            "##INFO=<ID=CLNSIG,Number=.,Type=String,Description=\"Aggregate germline classification for this single variant; multiple values are separated by a vertical bar\">\n",
            "##INFO=<ID=CLNSIGINCL,Number=.,Type=String,Description=\"Germline classification for a haplotype or genotype that includes this variant. Reported as pairs of VariationID:classification; multiple values are separated by a vertical bar\">\n",
            "##INFO=<ID=CLNSIGCONF,Number=.,Type=String,Description=\"Conflicting germline classification for this single variant; multiple values are separated by a vertical bar\">\n",
            "chr1\t942451\t1166513\tT\tC\t53.1\tPASS\tANN=C|missense_variant|MODERATE|SAMD11|SAMD11|transcript|NM_152486.3|protein_coding|10/14|c.1027T>C|p.Trp343Arg|1117/2557|1027/2046|343/681||,C|downstream_gene_variant|MODIFIER|NOC2L|NOC2L|transcript|NM_015658.4|protein_coding||c.*2243A>G|||||1752|;AF_EXAC=0.99994;AF_TGP=1.00000;ALLELEID=1153723;CLNDISDB=MedGen:C3661900;CLNDN=not_provided;CLNHGVS=NC_000001.11:g.942451T>C;CLNREVSTAT=criteria_provided,_multiple_submitters,_no_conflicts;CLNSIG=Benign;CLNVC=single_nucleotide_variant;CLNVCSO=SO:0001483;GENEINFO=SAMD11:148398;MC=SO:0001583|missense_variant;ORIGIN=1;RS=6672356\tGT:GQ:DP:AD:VAF:PL\t1/1:24:11:0,10:0.909091:53,23,0\n",
            "chr1\t976215\t1320032\tA\tG\t69.8\tPASS\tANN=G|missense_variant|MODERATE|PERM1|PERM1|transcript|NM_001291366.2|protein_coding|4/4|c.2330T>C|p.Val777Ala|2377/3394|2330/2373|777/790||,G|downstream_gene_variant|MODIFIER|PLEKHN1|PLEKHN1|transcript|NM_001367552.1|protein_coding||c.*1640A>G|||||350|;ALLELEID=1310278;CLNDISDB=Human_Phenotype_Ontology:HP:0032647,MedGen:C5397664|Human_Phenotype_Ontology:HP:0001932,Human_Phenotype_Ontology:HP:0008264,MedGen:C4021547;CLNDN=Renal_tubular_epithelial_cell_apoptosis|Neutrophil_inclusion_bodies;CLNHGVS=NC_000001.11:g.976215A>G;CLNREVSTAT=no_assertion_criteria_provided;CLNSIG=Pathogenic;CLNVC=single_nucleotide_variant;CLNVCSO=SO:0001483;GENEINFO=PERM1:84808;MC=SO:0001583|missense_variant;ORIGIN=0\tGT:GQ:DP:AD:VAF:PL\t1/1:69:98:0,98:1:69,78,0\n",
            "chr1\t1014274\t1166514\tA\tG\t69.1\tPASS\tANN=G|synonymous_variant|LOW|ISG15|ISG15|transcript|NM_005101.4|protein_coding|2/2|c.294A>G|p.Val98Val|371/636|294/498|98/165||;AF_ESP=0.82036;AF_TGP=0.82568;ALLELEID=1153151;CLNDISDB=MONDO:MONDO:0014502,MedGen:C4015293,OMIM:616126,Orphanet:319563|MedGen:CN169374|MedGen:C3661900;CLNDN=Mendelian_susceptibility_to_mycobacterial_diseases_due_to_complete_ISG15_deficiency|not_specified|not_provided;CLNHGVS=NC_000001.11:g.1014274A>G;CLNREVSTAT=criteria_provided,_multiple_submitters,_no_conflicts;CLNSIG=Benign;CLNVC=single_nucleotide_variant;CLNVCSO=SO:0001483;GENEINFO=ISG15:9636;MC=SO:0001819|synonymous_variant;ORIGIN=1;RS=8997\tGT:GQ:DP:AD:VAF:PL\t1/1:67:167:0,167:1:69,72,0\n",
            "chr1\t1046551\t128297\tA\tG\t62.4\tPASS\tANN=G|synonymous_variant|LOW|AGRN|AGRN|transcript|NM_001305275.2|protein_coding|18/38|c.3066A>G|p.Ser1022Ser|3119/7390|3066/6204|1022/2067||WARNING_TRANSCRIPT_MULTIPLE_STOP_CODONS;AF_ESP=0.78022;AF_EXAC=0.87675;AF_TGP=0.79772;ALLELEID=133746;CLNDISDB=MedGen:CN169374|MONDO:MONDO:0014052,MedGen:C3808739,OMIM:615120,Orphanet:590|MedGen:C3661900;CLNDN=not_specified|Congenital_myasthenic_syndrome_8|not_provided;CLNHGVS=NC_000001.11:g.1046551A>G;CLNREVSTAT=criteria_provided,_multiple_submitters,_no_conflicts;CLNSIG=Benign;CLNVC=single_nucleotide_variant;CLNVCSO=SO:0001483;CLNVI=ClinGen:CA151626;GENEINFO=AGRN:375790;MC=SO:0001819|synonymous_variant;ORIGIN=1;RS=2465128\tGT:GQ:DP:AD:VAF:PL\t1/1:48:93:4,87:0.935484:62,48,0\n",
            "chr1\t1047614\t128302\tT\tC\t72.2\tPASS\tANN=C|synonymous_variant|LOW|AGRN|AGRN|transcript|NM_001305275.2|protein_coding|21/38|c.3558T>C|p.Phe1186Phe|3611/7390|3558/6204|1186/2067||WARNING_TRANSCRIPT_MULTIPLE_STOP_CODONS;AF_ESP=0.79117;AF_EXAC=0.89893;AF_TGP=0.83586;ALLELEID=133751;CLNDISDB=MedGen:C3661900|MONDO:MONDO:0014052,MedGen:C3808739,OMIM:615120,Orphanet:590|MedGen:CN169374;CLNDN=not_provided|Congenital_myasthenic_syndrome_8|not_specified;CLNHGVS=NC_000001.11:g.1047614T>C;CLNREVSTAT=criteria_provided,_multiple_submitters,_no_conflicts;CLNSIG=Benign;CLNVC=single_nucleotide_variant;CLNVCSO=SO:0001483;CLNVI=ClinGen:CA151639;GENEINFO=AGRN:375790;MC=SO:0001819|synonymous_variant;ORIGIN=1;RS=10267\tGT:GQ:DP:AD:VAF:PL\t1/1:56:164:0,163:0.993902:72,56,0\n",
            "chr1\t1048922\t128307\tT\tC\t53.9\tPASS\tANN=C|synonymous_variant|LOW|AGRN|AGRN|transcript|NM_001305275.2|protein_coding|24/38|c.4161T>C|p.Thr1387Thr|4214/7390|4161/6204|1387/2067||WARNING_TRANSCRIPT_MULTIPLE_STOP_CODONS;AF_ESP=0.45863;AF_EXAC=0.62948;AF_TGP=0.54573;ALLELEID=133756;CLNDISDB=MedGen:CN169374|MONDO:MONDO:0014052,MedGen:C3808739,OMIM:615120,Orphanet:590|MedGen:C3661900;CLNDN=not_specified|Congenital_myasthenic_syndrome_8|not_provided;CLNHGVS=NC_000001.11:g.1048922T>C;CLNREVSTAT=criteria_provided,_multiple_submitters,_no_conflicts;CLNSIG=Benign;CLNVC=single_nucleotide_variant;CLNVCSO=SO:0001483;CLNVI=ClinGen:CA151654;GENEINFO=AGRN:375790;MC=SO:0001819|synonymous_variant;ORIGIN=1;RS=9442391\tGT:GQ:DP:AD:VAF:PL\t1/1:23:9:0,9:1:53,22,0\n",
            "chr1\t1054900\t128319\tC\tT\t39.8\tPASS\tANN=T|synonymous_variant|LOW|AGRN|AGRN|transcript|NM_001305275.2|protein_coding|38/38|c.6123C>T|p.Asp2041Asp|6176/7390|6123/6204|2041/2067||WARNING_TRANSCRIPT_MULTIPLE_STOP_CODONS,T|upstream_gene_variant|MODIFIER|LOC100288175|LOC100288175|transcript|NR_148960.1|pseudogene||n.-4834C>T|||||4834|;AF_ESP=0.57915;AF_EXAC=0.63764;AF_TGP=0.58526;ALLELEID=133768;CLNDISDB=MedGen:C3661900|MONDO:MONDO:0014052,MedGen:C3808739,OMIM:615120,Orphanet:590|MedGen:CN169374;CLNDN=not_provided|Congenital_myasthenic_syndrome_8|not_specified;CLNHGVS=NC_000001.11:g.1054900C>T;CLNREVSTAT=criteria_provided,_multiple_submitters,_no_conflicts;CLNSIG=Benign;CLNVC=single_nucleotide_variant;CLNVCSO=SO:0001483;CLNVI=ClinGen:CA151685;GENEINFO=AGRN:375790;MC=SO:0001819|synonymous_variant;ORIGIN=1;RS=4275402\tGT:GQ:DP:AD:VAF:PL\t1/1:11:5:0,5:1:39,10,0\n"
          ]
        }
      ]
    },
    {
      "cell_type": "markdown",
      "source": [
        "## Фильтрация итогового файла"
      ],
      "metadata": {
        "id": "nniUS1SPY8eQ"
      },
      "id": "nniUS1SPY8eQ"
    },
    {
      "cell_type": "code",
      "source": [
        "!grep -i -e 'Likely_pathogenic' -e 'CLNSIGCONF=Pathogenic' -e 'CLNSIG=Pathogenic' clinvar_annotation.vcf > result.vcf"
      ],
      "metadata": {
        "id": "1CRocdo_XOl5"
      },
      "id": "1CRocdo_XOl5",
      "execution_count": 100,
      "outputs": []
    },
    {
      "cell_type": "code",
      "source": [
        "! cat result.vcf"
      ],
      "metadata": {
        "colab": {
          "base_uri": "https://localhost:8080/"
        },
        "id": "rntfcOHFXX2w",
        "outputId": "86bcd0e1-bf70-4c3c-f798-3b1f408d3133"
      },
      "id": "rntfcOHFXX2w",
      "execution_count": 101,
      "outputs": [
        {
          "output_type": "stream",
          "name": "stdout",
          "text": [
            "chr1\t976215\t1320032\tA\tG\t69.8\tPASS\tANN=G|missense_variant|MODERATE|PERM1|PERM1|transcript|NM_001291366.2|protein_coding|4/4|c.2330T>C|p.Val777Ala|2377/3394|2330/2373|777/790||,G|downstream_gene_variant|MODIFIER|PLEKHN1|PLEKHN1|transcript|NM_001367552.1|protein_coding||c.*1640A>G|||||350|;ALLELEID=1310278;CLNDISDB=Human_Phenotype_Ontology:HP:0032647,MedGen:C5397664|Human_Phenotype_Ontology:HP:0001932,Human_Phenotype_Ontology:HP:0008264,MedGen:C4021547;CLNDN=Renal_tubular_epithelial_cell_apoptosis|Neutrophil_inclusion_bodies;CLNHGVS=NC_000001.11:g.976215A>G;CLNREVSTAT=no_assertion_criteria_provided;CLNSIG=Pathogenic;CLNVC=single_nucleotide_variant;CLNVCSO=SO:0001483;GENEINFO=PERM1:84808;MC=SO:0001583|missense_variant;ORIGIN=0\tGT:GQ:DP:AD:VAF:PL\t1/1:69:98:0,98:1:69,78,0\n",
            "chr1\t226735804\t1705897\tG\tT\t66.4\tPASS\tANN=T|missense_variant|MODERATE|ITPKB|ITPKB|transcript|NM_002221.3|protein_coding|2/8|c.1655C>A|p.Pro552Gln|1995/6162|1655/2841|552/946||;ALLELEID=1704217;CLNDISDB=MONDO:MONDO:0019452,MedGen:C1333046,Orphanet:86830|MedGen:CN169374;CLNDN=Myeloproliferative_neoplasm,_unclassifiable|not_specified;CLNHGVS=NC_000001.11:g.226735804G>T;CLNREVSTAT=criteria_provided,_conflicting_classifications;CLNSIG=Conflicting_classifications_of_pathogenicity;CLNSIGCONF=Likely_pathogenic(1)|Benign(1);CLNVC=single_nucleotide_variant;CLNVCSO=SO:0001483;GENEINFO=ITPKB:3707;MC=SO:0001583|missense_variant;ORIGIN=3\tGT:GQ:DP:AD:VAF:PL\t1/1:58:94:0,94:1:66,58,0\n",
            "chr1\t226736237\t1705899\tA\tC\t60.7\tPASS\tANN=C|missense_variant|MODERATE|ITPKB|ITPKB|transcript|NM_002221.3|protein_coding|2/8|c.1222T>G|p.Ser408Ala|1562/6162|1222/2841|408/946||;ALLELEID=1704219;CLNDISDB=MONDO:MONDO:0019452,MedGen:C1333046,Orphanet:86830|MedGen:CN169374;CLNDN=Myeloproliferative_neoplasm,_unclassifiable|not_specified;CLNHGVS=NC_000001.11:g.226736237A>C;CLNREVSTAT=criteria_provided,_conflicting_classifications;CLNSIG=Conflicting_classifications_of_pathogenicity;CLNSIGCONF=Likely_pathogenic(1)|Benign(1);CLNVC=single_nucleotide_variant;CLNVCSO=SO:0001483;GENEINFO=ITPKB:3707;MC=SO:0001583|missense_variant;ORIGIN=3\tGT:GQ:DP:AD:VAF:PL\t0/1:59:98:51,47:0.479592:60,0,63\n",
            "chr1\t226737174\t1705896\tACTGCCGCTG\tA\t60.1\tPASS\tANN=A|disruptive_inframe_deletion|MODERATE|ITPKB|ITPKB|transcript|NM_002221.3|protein_coding|2/8|c.276_284delCAGCGGCAG|p.Ser93_Ser95del|624/6162|276/2841|92/946||;ALLELEID=1704216;CLNDISDB=MONDO:MONDO:0019452,MedGen:C1333046,Orphanet:86830;CLNDN=Myeloproliferative_neoplasm,_unclassifiable;CLNHGVS=NC_000001.11:g.226737176TGCCGCTGC[1];CLNREVSTAT=criteria_provided,_single_submitter;CLNSIG=Likely_pathogenic;CLNVC=Microsatellite;CLNVCSO=SO:0000289;GENEINFO=ITPKB:3707|LOC129932672:129932672;MC=SO:0001822|inframe_deletion;ORIGIN=2\tGT:GQ:DP:AD:VAF:PL\t0/1:56:46:17,29:0.630435:60,0,58\n",
            "chr2\t127426090\t1394296\tT\tG\t61.4\tPASS\tANN=G|missense_variant|MODERATE|PROC|PROC|transcript|NM_000312.3|protein_coding|7/9|c.541T>G|p.Phe181Val|635/1780|541/1386|181/461||,G|upstream_gene_variant|MODIFIER|MIR4783|MIR4783|transcript|NR_039944.1|pseudogene||n.-2472A>C|||||2472|;AF_EXAC=0.00002;ALLELEID=1338319;CLNDISDB=MONDO:MONDO:0008316,MedGen:C2674321,OMIM:176860,Orphanet:745|MONDO:MONDO:0012860,MedGen:C2676759,OMIM:612304,Orphanet:745|MedGen:C3661900;CLNDN=Thrombophilia_due_to_protein_C_deficiency,_autosomal_dominant|Thrombophilia_due_to_protein_C_deficiency,_autosomal_recessive|not_provided;CLNHGVS=NC_000002.12:g.127426090T>G;CLNREVSTAT=criteria_provided,_multiple_submitters,_no_conflicts;CLNSIG=Pathogenic/Likely_pathogenic;CLNVC=single_nucleotide_variant;CLNVCSO=SO:0001483;GENEINFO=PROC:5624;MC=SO:0001583|missense_variant;ORIGIN=1;RS=199469470\tGT:GQ:DP:AD:VAF:PL\t0/1:56:144:75,69:0.479167:61,0,57\n",
            "chr6\t24503362\t128343\tC\tT\t70.2\tPASS\tANN=T|missense_variant|MODERATE|ALDH5A1|ALDH5A1|transcript|NM_170740.1|protein_coding|3/11|c.538C>T|p.His180Tyr|566/5170|538/1647|180/548||;AF_ESP=0.37121;AF_EXAC=0.31950;AF_TGP=0.31470;ALLELEID=133792;CLNDISDB=MONDO:MONDO:0010083,MedGen:C0268631,OMIM:271980,Orphanet:22|MedGen:C3661900|MedGen:CN169374;CLNDN=Succinate-semialdehyde_dehydrogenase_deficiency|not_provided|not_specified;CLNHGVS=NC_000006.12:g.24503362C>T;CLNREVSTAT=criteria_provided,_conflicting_classifications;CLNSIG=Conflicting_classifications_of_pathogenicity;CLNSIGCONF=Pathogenic(1)|Benign(5);CLNVC=single_nucleotide_variant;CLNVCSO=SO:0001483;CLNVI=ClinGen:CA151744|UniProtKB:P51649#VAR_016758;GENEINFO=ALDH5A1:7915;MC=SO:0001583|missense_variant;ORIGIN=1;RS=2760118\tGT:GQ:DP:AD:VAF:PL\t0/1:67:112:61,51:0.455357:70,0,70\n",
            "chr6\t32038610\t12183\tA\tT\t42.4\tPASS\tANN=T|missense_variant|MODERATE|CYP21A2|CYP21A2.6|transcript|NM_000500.9.3|protein_coding|1/10|c.188A>T|p.His63Leu|196/2006|188/1488|63/495||,T|downstream_gene_variant|MODIFIER|C4B|C4B.3|transcript|NM_001002029.3.3|protein_coding||c.*3333A>T|||||3192|,T|downstream_gene_variant|MODIFIER|C4B_2|C4B_2.9|transcript|NM_001242823.2.9|protein_coding||c.*3333A>T|||||3192|,T|downstream_gene_variant|MODIFIER|TNXB|TNXB.3|transcript|NM_001365276.2.7|protein_coding||c.*2739T>A|||||2543|;AF_EXAC=0.09368;ALLELEID=27222;CLNDISDB=MONDO:MONDO:0008728,MedGen:C2936858,OMIM:201910,Orphanet:90794|MedGen:C3661900|MedGen:CN169374|Human_Phenotype_Ontology:HP:0008258,MONDO:MONDO:0018479,MedGen:C0001627,Orphanet:418;CLNDN=Classic_congenital_adrenal_hyperplasia_due_to_21-hydroxylase_deficiency|not_provided|not_specified|Congenital_adrenal_hyperplasia;CLNHGVS=NC_000006.12:g.32038610A>T;CLNREVSTAT=criteria_provided,_conflicting_classifications;CLNSIG=Conflicting_classifications_of_pathogenicity;CLNSIGCONF=Pathogenic(2)|Likely_pathogenic(1)|Benign(2)|Likely_benign(1);CLNVC=single_nucleotide_variant;CLNVCSO=SO:0001483;CLNVI=ClinGen:CA200316|OMIM:613815.0034;GENEINFO=CYP21A2:1589|LOC106780800:106780800;MC=SO:0001583|missense_variant,SO:0001623|5_prime_UTR_variant;ORIGIN=1;RS=9378252\tGT:GQ:DP:AD:VAF:PL\t1/1:25:27:0,27:1:42,25,0\n",
            "chr8\t106679222\t1678542\tA\tG\t63.5\tPASS\tANN=G|missense_variant|MODERATE|OXR1|OXR1|transcript|NM_001198532.1|protein_coding|3/16|c.236A>G|p.Lys79Arg|335/4476|236/2625|79/874||;ALLELEID=1670259;CLNDISDB=MedGen:CN517202|Human_Phenotype_Ontology:HP:0000365,Human_Phenotype_Ontology:HP:0000404,Human_Phenotype_Ontology:HP:0001728,Human_Phenotype_Ontology:HP:0001729,Human_Phenotype_Ontology:HP:0001754,Human_Phenotype_Ontology:HP:0008560,Human_Phenotype_Ontology:HP:0008563,MONDO:MONDO:0005365,MedGen:C1384666;CLNDN=not_provided|Hearing_impairment;CLNHGVS=NC_000008.11:g.106679222A>G;CLNREVSTAT=no_assertion_criteria_provided;CLNSIG=Conflicting_classifications_of_pathogenicity;CLNSIGCONF=Likely_pathogenic(1)|Uncertain_significance(1);CLNVC=single_nucleotide_variant;CLNVCSO=SO:0001483;CLNVI=OMIM:605609.0005;GENEINFO=OXR1:55074;MC=SO:0001583|missense_variant;ORIGIN=1\tGT:GQ:DP:AD:VAF:PL\t0/1:60:94:52,42:0.446809:63,0,63\n",
            "chr12\t102852922\t92748\tC\tT\t69.6\tPASS\tANN=T|synonymous_variant|LOW|PAH|PAH|transcript|NM_000277.3|protein_coding|7/13|c.735G>A|p.Val245Val|849/3759|735/1359|245/452||;AF_ESP=0.18153;AF_EXAC=0.29058;AF_TGP=0.31490;ALLELEID=98655;CLNDISDB=MedGen:C3661900|MedGen:CN169374|MONDO:MONDO:0009861,MedGen:C0031485,OMIM:261600,Orphanet:716;CLNDISDBINCL=MONDO:MONDO:0009861,MedGen:C0031485,OMIM:261600,Orphanet:716;CLNDN=not_provided|not_specified|Phenylketonuria;CLNDNINCL=Phenylketonuria;CLNHGVS=NC_000012.12:g.102852922C>T;CLNREVSTAT=reviewed_by_expert_panel;CLNSIG=Benign;CLNSIGINCL=402236:Likely_pathogenic;CLNVC=single_nucleotide_variant;CLNVCSO=SO:0001483;CLNVI=ClinGen:CA145982;GENEINFO=PAH:5053;MC=SO:0001819|synonymous_variant;ORIGIN=1;RS=1042503\tGT:GQ:DP:AD:VAF:PL\t1/1:69:235:0,234:0.995745:69,79,0\n",
            "chr14\t81091070\t314693\tG\tC\t59.6\tPASS\tANN=C|missense_variant&splice_region_variant|MODERATE|TSHR|TSHR|transcript|NM_000369.3|protein_coding|5/10|c.394G>C|p.Gly132Arg|454/4308|394/2295|132/764||;AF_EXAC=0.00003;ALLELEID=337553;CLNDISDB=MONDO:MONDO:0012203,MedGen:C1836706,OMIM:609152,Orphanet:424|MONDO:MONDO:0010142,MedGen:C3493776,OMIM:275200,Orphanet:90673|MONDO:MONDO:0011309,MedGen:C1863959,OMIM:603373,Orphanet:99819|MedGen:C3661900|.|MONDO:MONDO:0008170,MedGen:C1140680,OMIM:167000,Orphanet:213500;CLNDN=Familial_hyperthyroidism_due_to_mutations_in_TSH_receptor|Hypothyroidism_due_to_TSH_receptor_mutations|Familial_gestational_hyperthyroidism|not_provided|TSHR-related_disorder|Ovarian_cancer;CLNHGVS=NC_000014.9:g.81091070G>C;CLNREVSTAT=criteria_provided,_conflicting_classifications;CLNSIG=Conflicting_classifications_of_pathogenicity;CLNSIGCONF=Likely_pathogenic(3)|Uncertain_significance(1)|Benign(2);CLNVC=single_nucleotide_variant;CLNVCSO=SO:0001483;CLNVI=ClinGen:CA7294130;GENEINFO=TSHR:7253;MC=SO:0001583|missense_variant;ORIGIN=1;RS=760874290\tGT:GQ:DP:AD:VAF:PL\t0/1:59:70:37,33:0.471429:59,0,66\n",
            "chr16\t69711242\t16809\tG\tA\t67.0\tPASS\tANN=A|missense_variant|MODERATE|NQO1|NQO1|transcript|NM_000903.3|protein_coding|6/6|c.559C>T|p.Pro187Ser|680/2521|559/825|187/274||,A|upstream_gene_variant|MODIFIER|SNORD13H|SNORD13H|transcript|NR_145753.1|pseudogene||n.-2567C>T|||||2567|;AF_EXAC=0.24516;AF_TGP=0.28894;ALLELEID=31848;CLNDISDB=.|MONDO:MONDO:0005138,MedGen:C0684249|MedGen:C2675718|MedGen:C2675719|MedGen:C2675722;CLNDN=NQO1-related_disorder|Lung_carcinoma|Benzene_toxicity,_susceptibility_to|Leukemia,_post-chemotherapy,_susceptibility_to|Breast_cancer,_post-chemotherapy_poor_survival_in;CLNHGVS=NC_000016.10:g.69711242G>A;CLNREVSTAT=no_assertion_criteria_provided;CLNSIG=Conflicting_classifications_of_pathogenicity|risk_factor;CLNSIGCONF=Pathogenic(1)|Benign(1);CLNVC=single_nucleotide_variant;CLNVCSO=SO:0001483;CLNVI=ClinGen:CA126904|OMIM:125860.0001|PharmGKB_Clinical_Annotation:1183491004|UniProtKB:P15559#VAR_008384;GENEINFO=NQO1:1728;MC=SO:0001583|missense_variant;ORIGIN=3;RS=1800566\tGT:GQ:DP:AD:VAF:PL\t1/1:57:29:0,29:1:66,57,0\n",
            "chr17\t80385145\t39700\tG\tA\t64.3\tPASS\tANN=A|missense_variant|MODERATE|RNF213|RNF213|transcript|NM_001256071.3|protein_coding|60/68|c.14429G>A|p.Arg4810Lys|14588/21074|14429/15624|4810/5207||,A|intron_variant|MODIFIER|RNF213-AS1|RNF213-AS1|transcript|NR_029376.1|pseudogene|1/1|n.240+29784C>T||||||;AF_TGP=0.00120;ALLELEID=48299;CLNDISDB=MedGen:C3661900|MONDO:MONDO:0011784,MedGen:C1846689,OMIM:607151,Orphanet:2573;CLNDN=not_provided|Moyamoya_disease_2;CLNHGVS=NC_000017.11:g.80385145G>A;CLNREVSTAT=criteria_provided,_conflicting_classifications;CLNSIG=Conflicting_classifications_of_pathogenicity;CLNSIGCONF=Pathogenic(7)|Likely_pathogenic(1)|Uncertain_significance(1);CLNVC=single_nucleotide_variant;CLNVCSO=SO:0001483;CLNVI=ClinGen:CA130463|OMIM:613768.0001;GENEINFO=RNF213:57674|RNF213-AS1:100294362;MC=SO:0001583|missense_variant;ORIGIN=1;RS=112735431\tGT:GQ:DP:AD:VAF:PL\t0/1:60:152:75,76:0.5:64,0,61\n",
            "chr18\t23539813\t21136\tG\tA\t64.6\tPASS\tANN=A|splice_region_variant&synonymous_variant|LOW|NPC1|NPC1|transcript|NM_000271.5|protein_coding|18/25|c.2793C>T|p.Asn931Asn|2956/4760|2793/3837|931/1278||;AF_ESP=0.44203;AF_EXAC=0.49018;AF_TGP=0.48403;ALLELEID=33988;CLNDISDB=MedGen:CN169374|MedGen:C3661900|MONDO:MONDO:0009757,MedGen:C3179455,OMIM:257220,Orphanet:646;CLNDISDBINCL=MONDO:MONDO:0009757,MedGen:C3179455,OMIM:257220,Orphanet:646;CLNDN=not_specified|not_provided|Niemann-Pick_disease,_type_C1;CLNDNINCL=Niemann-Pick_disease,_type_C1;CLNHGVS=NC_000018.10:g.23539813G>A;CLNREVSTAT=criteria_provided,_multiple_submitters,_no_conflicts;CLNSIG=Benign;CLNSIGINCL=867233:Likely_pathogenic;CLNVC=single_nucleotide_variant;CLNVCSO=SO:0001483;CLNVI=ClinGen:CA145959;GENEINFO=NPC1:4864;MC=SO:0001819|synonymous_variant;ORIGIN=1;RS=1140458\tGT:GQ:DP:AD:VAF:PL\t0/1:61:110:44,66:0.6:64,0,63\n",
            "chr18\t57571588\t562\tA\tG\t70.7\tPASS\tANN=G|intron_variant|MODIFIER|FECH|FECH|transcript|NM_001012515.3|protein_coding|3/10|c.333-48T>C||||||;AF_ESP=0.03737;AF_EXAC=0.10730;AF_TGP=0.13738;ALLELEID=15601;CLNDISDB=MONDO:MONDO:0008319,MedGen:C4692546,OMIM:177000,Orphanet:79278|MONDO:MONDO:0019263,MedGen:CN283243,Orphanet:79278|MedGen:C3661900|Human_Phenotype_Ontology:HP:0010783,MedGen:C0041834|Human_Phenotype_Ontology:HP:0000952,MedGen:C0022346;CLNDN=Protoporphyria,_erythropoietic,_1|Autosomal_erythropoietic_protoporphyria|not_provided|Erythema|Jaundice;CLNHGVS=NC_000018.10:g.57571588A>G;CLNREVSTAT=criteria_provided,_conflicting_classifications;CLNSIG=Conflicting_classifications_of_pathogenicity;CLNSIGCONF=Pathogenic(11)|Likely_pathogenic(2)|Pathogenic,_low_penetrance(1)|Uncertain_significance(1);CLNVC=single_nucleotide_variant;CLNVCSO=SO:0001483;CLNVI=ClinGen:CA339823|OMIM:612386.0015;GENEINFO=FECH:2235;MC=SO:0001627|intron_variant;ORIGIN=1;RS=2272783\tGT:GQ:DP:AD:VAF:PL\t1/1:67:58:0,58:1:70,70,0\n",
            "chr19\t1615797\t1165836\tG\tA\t56.8\tPASS\tANN=A|missense_variant|MODERATE|TCF3|TCF3|transcript|NM_003200.5|protein_coding|17/19|c.1475C>T|p.Ala492Val|1830/4735|1475/1965|492/654||;AF_ESP=0.01346;AF_EXAC=0.05265;AF_TGP=0.11362;ALLELEID=1158419;CLNDISDB=MedGen:C3661900|MONDO:MONDO:0019452,MedGen:C1333046,Orphanet:86830;CLNDN=not_provided|Myeloproliferative_neoplasm,_unclassifiable;CLNHGVS=NC_000019.10:g.1615797G>A;CLNREVSTAT=criteria_provided,_conflicting_classifications;CLNSIG=Conflicting_classifications_of_pathogenicity;CLNSIGCONF=Likely_pathogenic(1)|Benign(2);CLNVC=single_nucleotide_variant;CLNVCSO=SO:0001483;GENEINFO=TCF3:6929;MC=SO:0001583|missense_variant;ORIGIN=3;RS=2074888\tGT:GQ:DP:AD:VAF:PL\t1/1:28:12:0,12:1:56,28,0\n",
            "chr19\t12896366\t575670\tT\tC\t74.4\tPASS\tANN=C|missense_variant|MODERATE|GCDH|GCDH|transcript|NM_000159.4|protein_coding|8/12|c.797T>C|p.Met266Thr|874/1852|797/1317|266/438||,C|downstream_gene_variant|MODIFIER|SYCE2|SYCE2|transcript|NM_001105578.2|protein_coding||c.*2975A>G|||||2420|;AF_EXAC=0.00001;ALLELEID=574878;CLNDISDB=MedGen:CN169374|MedGen:C3661900|MONDO:MONDO:0009281,MedGen:C0268595,OMIM:231670,Orphanet:25;CLNDN=not_specified|not_provided|Glutaric_aciduria,_type_1;CLNHGVS=NC_000019.10:g.12896366T>C;CLNREVSTAT=criteria_provided,_conflicting_classifications;CLNSIG=Conflicting_classifications_of_pathogenicity;CLNSIGCONF=Pathogenic(1)|Likely_pathogenic(1)|Uncertain_significance(1);CLNVC=single_nucleotide_variant;CLNVCSO=SO:0001483;GENEINFO=GCDH:2639;MC=SO:0001583|missense_variant,SO:0001619|non-coding_transcript_variant;ORIGIN=1;RS=771650894\tGT:GQ:DP:AD:VAF:PL\t0/1:69:55:25,30:0.545455:74,0,70\n",
            "chr19\t44908684\t17864\tT\tC\t58.1\tPASS\tANN=C|missense_variant|MODERATE|APOE|APOE|transcript|NM_001302688.2|protein_coding|4/4|c.466T>C|p.Cys156Arg|539/1248|466/1032|156/343||,C|downstream_gene_variant|MODIFIER|TOMM40|TOMM40|transcript|NM_001128916.1|protein_coding||c.*5515T>C|||||4995|;AF_EXAC=0.18433;AF_TGP=0.15056;ALLELEID=32903;CLNDISDB=MONDO:MONDO:0007390,MedGen:C0750384,OMIM:122700|MedGen:C5779573|MONDO:MONDO:0011743,MedGen:C1847200,OMIM:606889,Orphanet:1020|Human_Phenotype_Ontology:HP:0002511,Human_Phenotype_Ontology:HP:0006878,Human_Phenotype_Ontology:HP:0007213,MONDO:MONDO:0004975,MeSH:D000544,MedGen:C0002395,Orphanet:1020|MONDO:MONDO:0007089,MedGen:C1863051,OMIM:104310,Orphanet:1020|MONDO:MONDO:0012725,MedGen:C2673196,OMIM:611771,Orphanet:329481|MedGen:C3661900;CLNDISDBINCL=.|MedGen:C4479660|MONDO:MONDO:0005439,MedGen:C0020445,OMIM:PS143890|MONDO:MONDO:0018473,MedGen:C0020479,OMIM:617347,Orphanet:412|MedGen:CN169374;CLNDN=Warfarin_response|Primary_degenerative_dementia_of_the_Alzheimer_type,_presenile_onset|Alzheimer_disease_4|Alzheimer_disease|Alzheimer_disease_2|Lipoprotein_glomerulopathy|not_provided;CLNDNINCL=APOE4(-)-FREIBURG|APOE5_VARIANT|Familial_hypercholesterolemia|Familial_type_3_hyperlipoproteinemia|not_specified;CLNHGVS=NC_000019.10:g.44908684T>C;CLNREVSTAT=criteria_provided,_conflicting_classifications;CLNSIG=Conflicting_classifications_of_pathogenicity|other|risk_factor;CLNSIGCONF=Pathogenic(1)|Likely_pathogenic(2)|Uncertain_significance(2);CLNSIGINCL=440870:not_provided|441267:Pathogenic|441268:Pathogenic/Likely_pathogenic|441269:association|666796:Uncertain_significance;CLNVC=single_nucleotide_variant;CLNVCSO=SO:0001483;CLNVI=ClinGen:CA127512|Genetic_Testing_Registry_(GTR):GTR000005674|Genetic_Testing_Registry_(GTR):GTR000325431|OMIM:107741.0008|OMIM:107741.0016|OMIM:107741.0022|OMIM:107741.0023|OMIM:107741.0025|UniProtKB:P02649#VAR_000652;GENEINFO=APOE:348;MC=SO:0001583|missense_variant;ORIGIN=1;RS=429358\tGT:GQ:DP:AD:VAF:PL\t0/1:57:121:67,54:0.446281:58,0,63\n"
          ]
        }
      ]
    },
    {
      "cell_type": "code",
      "execution_count": 102,
      "id": "7469ddba",
      "metadata": {
        "colab": {
          "base_uri": "https://localhost:8080/"
        },
        "id": "7469ddba",
        "outputId": "39ae4c35-64ae-4309-da8a-aa95ed0da17d"
      },
      "outputs": [
        {
          "output_type": "stream",
          "name": "stdout",
          "text": [
            "17\n"
          ]
        }
      ],
      "source": [
        "!grep -i -e 'Likely_pathogenic' -e 'CLNSIGCONF=Pathogenic' -e 'CLNSIG=Pathogenic' result.vcf | wc -l"
      ]
    },
    {
      "cell_type": "markdown",
      "source": [
        "Твким образом получила 17 вариантов патогенных и потенциально патогенных вариантов. Можно кстати посмотреть, сколько получилось по отдельности"
      ],
      "metadata": {
        "id": "r2y6cHMrXenI"
      },
      "id": "r2y6cHMrXenI"
    },
    {
      "cell_type": "code",
      "source": [
        "!grep -i  -e 'CLNSIGCONF=Pathogenic' -e 'CLNSIG=Pathogenic' result.vcf"
      ],
      "metadata": {
        "colab": {
          "base_uri": "https://localhost:8080/"
        },
        "id": "s57hSzhmYKz_",
        "outputId": "5d485735-c993-4a83-ecb6-df937a81ffaa"
      },
      "id": "s57hSzhmYKz_",
      "execution_count": 111,
      "outputs": [
        {
          "output_type": "stream",
          "name": "stdout",
          "text": [
            "chr1\t976215\t1320032\tA\tG\t69.8\tPASS\tANN=G|missense_variant|MODERATE|PERM1|PERM1|transcript|NM_001291366.2|protein_coding|4/4|c.2330T>C|p.Val777Ala|2377/3394|2330/2373|777/790||,G|downstream_gene_variant|MODIFIER|PLEKHN1|PLEKHN1|transcript|NM_001367552.1|protein_coding||c.*1640A>G|||||350|;ALLELEID=1310278;CLNDISDB=Human_Phenotype_Ontology:HP:0032647,MedGen:C5397664|Human_Phenotype_Ontology:HP:0001932,Human_Phenotype_Ontology:HP:0008264,MedGen:C4021547;CLNDN=Renal_tubular_epithelial_cell_apoptosis|Neutrophil_inclusion_bodies;CLNHGVS=NC_000001.11:g.976215A>G;CLNREVSTAT=no_assertion_criteria_provided;CLNSIG=Pathogenic;CLNVC=single_nucleotide_variant;CLNVCSO=SO:0001483;GENEINFO=PERM1:84808;MC=SO:0001583|missense_variant;ORIGIN=0\tGT:GQ:DP:AD:VAF:PL\t1/1:69:98:0,98:1:69,78,0\n",
            "chr2\t127426090\t1394296\tT\tG\t61.4\tPASS\tANN=G|missense_variant|MODERATE|PROC|PROC|transcript|NM_000312.3|protein_coding|7/9|c.541T>G|p.Phe181Val|635/1780|541/1386|181/461||,G|upstream_gene_variant|MODIFIER|MIR4783|MIR4783|transcript|NR_039944.1|pseudogene||n.-2472A>C|||||2472|;AF_EXAC=0.00002;ALLELEID=1338319;CLNDISDB=MONDO:MONDO:0008316,MedGen:C2674321,OMIM:176860,Orphanet:745|MONDO:MONDO:0012860,MedGen:C2676759,OMIM:612304,Orphanet:745|MedGen:C3661900;CLNDN=Thrombophilia_due_to_protein_C_deficiency,_autosomal_dominant|Thrombophilia_due_to_protein_C_deficiency,_autosomal_recessive|not_provided;CLNHGVS=NC_000002.12:g.127426090T>G;CLNREVSTAT=criteria_provided,_multiple_submitters,_no_conflicts;CLNSIG=Pathogenic/Likely_pathogenic;CLNVC=single_nucleotide_variant;CLNVCSO=SO:0001483;GENEINFO=PROC:5624;MC=SO:0001583|missense_variant;ORIGIN=1;RS=199469470\tGT:GQ:DP:AD:VAF:PL\t0/1:56:144:75,69:0.479167:61,0,57\n",
            "chr6\t24503362\t128343\tC\tT\t70.2\tPASS\tANN=T|missense_variant|MODERATE|ALDH5A1|ALDH5A1|transcript|NM_170740.1|protein_coding|3/11|c.538C>T|p.His180Tyr|566/5170|538/1647|180/548||;AF_ESP=0.37121;AF_EXAC=0.31950;AF_TGP=0.31470;ALLELEID=133792;CLNDISDB=MONDO:MONDO:0010083,MedGen:C0268631,OMIM:271980,Orphanet:22|MedGen:C3661900|MedGen:CN169374;CLNDN=Succinate-semialdehyde_dehydrogenase_deficiency|not_provided|not_specified;CLNHGVS=NC_000006.12:g.24503362C>T;CLNREVSTAT=criteria_provided,_conflicting_classifications;CLNSIG=Conflicting_classifications_of_pathogenicity;CLNSIGCONF=Pathogenic(1)|Benign(5);CLNVC=single_nucleotide_variant;CLNVCSO=SO:0001483;CLNVI=ClinGen:CA151744|UniProtKB:P51649#VAR_016758;GENEINFO=ALDH5A1:7915;MC=SO:0001583|missense_variant;ORIGIN=1;RS=2760118\tGT:GQ:DP:AD:VAF:PL\t0/1:67:112:61,51:0.455357:70,0,70\n",
            "chr6\t32038610\t12183\tA\tT\t42.4\tPASS\tANN=T|missense_variant|MODERATE|CYP21A2|CYP21A2.6|transcript|NM_000500.9.3|protein_coding|1/10|c.188A>T|p.His63Leu|196/2006|188/1488|63/495||,T|downstream_gene_variant|MODIFIER|C4B|C4B.3|transcript|NM_001002029.3.3|protein_coding||c.*3333A>T|||||3192|,T|downstream_gene_variant|MODIFIER|C4B_2|C4B_2.9|transcript|NM_001242823.2.9|protein_coding||c.*3333A>T|||||3192|,T|downstream_gene_variant|MODIFIER|TNXB|TNXB.3|transcript|NM_001365276.2.7|protein_coding||c.*2739T>A|||||2543|;AF_EXAC=0.09368;ALLELEID=27222;CLNDISDB=MONDO:MONDO:0008728,MedGen:C2936858,OMIM:201910,Orphanet:90794|MedGen:C3661900|MedGen:CN169374|Human_Phenotype_Ontology:HP:0008258,MONDO:MONDO:0018479,MedGen:C0001627,Orphanet:418;CLNDN=Classic_congenital_adrenal_hyperplasia_due_to_21-hydroxylase_deficiency|not_provided|not_specified|Congenital_adrenal_hyperplasia;CLNHGVS=NC_000006.12:g.32038610A>T;CLNREVSTAT=criteria_provided,_conflicting_classifications;CLNSIG=Conflicting_classifications_of_pathogenicity;CLNSIGCONF=Pathogenic(2)|Likely_pathogenic(1)|Benign(2)|Likely_benign(1);CLNVC=single_nucleotide_variant;CLNVCSO=SO:0001483;CLNVI=ClinGen:CA200316|OMIM:613815.0034;GENEINFO=CYP21A2:1589|LOC106780800:106780800;MC=SO:0001583|missense_variant,SO:0001623|5_prime_UTR_variant;ORIGIN=1;RS=9378252\tGT:GQ:DP:AD:VAF:PL\t1/1:25:27:0,27:1:42,25,0\n",
            "chr16\t69711242\t16809\tG\tA\t67.0\tPASS\tANN=A|missense_variant|MODERATE|NQO1|NQO1|transcript|NM_000903.3|protein_coding|6/6|c.559C>T|p.Pro187Ser|680/2521|559/825|187/274||,A|upstream_gene_variant|MODIFIER|SNORD13H|SNORD13H|transcript|NR_145753.1|pseudogene||n.-2567C>T|||||2567|;AF_EXAC=0.24516;AF_TGP=0.28894;ALLELEID=31848;CLNDISDB=.|MONDO:MONDO:0005138,MedGen:C0684249|MedGen:C2675718|MedGen:C2675719|MedGen:C2675722;CLNDN=NQO1-related_disorder|Lung_carcinoma|Benzene_toxicity,_susceptibility_to|Leukemia,_post-chemotherapy,_susceptibility_to|Breast_cancer,_post-chemotherapy_poor_survival_in;CLNHGVS=NC_000016.10:g.69711242G>A;CLNREVSTAT=no_assertion_criteria_provided;CLNSIG=Conflicting_classifications_of_pathogenicity|risk_factor;CLNSIGCONF=Pathogenic(1)|Benign(1);CLNVC=single_nucleotide_variant;CLNVCSO=SO:0001483;CLNVI=ClinGen:CA126904|OMIM:125860.0001|PharmGKB_Clinical_Annotation:1183491004|UniProtKB:P15559#VAR_008384;GENEINFO=NQO1:1728;MC=SO:0001583|missense_variant;ORIGIN=3;RS=1800566\tGT:GQ:DP:AD:VAF:PL\t1/1:57:29:0,29:1:66,57,0\n",
            "chr17\t80385145\t39700\tG\tA\t64.3\tPASS\tANN=A|missense_variant|MODERATE|RNF213|RNF213|transcript|NM_001256071.3|protein_coding|60/68|c.14429G>A|p.Arg4810Lys|14588/21074|14429/15624|4810/5207||,A|intron_variant|MODIFIER|RNF213-AS1|RNF213-AS1|transcript|NR_029376.1|pseudogene|1/1|n.240+29784C>T||||||;AF_TGP=0.00120;ALLELEID=48299;CLNDISDB=MedGen:C3661900|MONDO:MONDO:0011784,MedGen:C1846689,OMIM:607151,Orphanet:2573;CLNDN=not_provided|Moyamoya_disease_2;CLNHGVS=NC_000017.11:g.80385145G>A;CLNREVSTAT=criteria_provided,_conflicting_classifications;CLNSIG=Conflicting_classifications_of_pathogenicity;CLNSIGCONF=Pathogenic(7)|Likely_pathogenic(1)|Uncertain_significance(1);CLNVC=single_nucleotide_variant;CLNVCSO=SO:0001483;CLNVI=ClinGen:CA130463|OMIM:613768.0001;GENEINFO=RNF213:57674|RNF213-AS1:100294362;MC=SO:0001583|missense_variant;ORIGIN=1;RS=112735431\tGT:GQ:DP:AD:VAF:PL\t0/1:60:152:75,76:0.5:64,0,61\n",
            "chr18\t57571588\t562\tA\tG\t70.7\tPASS\tANN=G|intron_variant|MODIFIER|FECH|FECH|transcript|NM_001012515.3|protein_coding|3/10|c.333-48T>C||||||;AF_ESP=0.03737;AF_EXAC=0.10730;AF_TGP=0.13738;ALLELEID=15601;CLNDISDB=MONDO:MONDO:0008319,MedGen:C4692546,OMIM:177000,Orphanet:79278|MONDO:MONDO:0019263,MedGen:CN283243,Orphanet:79278|MedGen:C3661900|Human_Phenotype_Ontology:HP:0010783,MedGen:C0041834|Human_Phenotype_Ontology:HP:0000952,MedGen:C0022346;CLNDN=Protoporphyria,_erythropoietic,_1|Autosomal_erythropoietic_protoporphyria|not_provided|Erythema|Jaundice;CLNHGVS=NC_000018.10:g.57571588A>G;CLNREVSTAT=criteria_provided,_conflicting_classifications;CLNSIG=Conflicting_classifications_of_pathogenicity;CLNSIGCONF=Pathogenic(11)|Likely_pathogenic(2)|Pathogenic,_low_penetrance(1)|Uncertain_significance(1);CLNVC=single_nucleotide_variant;CLNVCSO=SO:0001483;CLNVI=ClinGen:CA339823|OMIM:612386.0015;GENEINFO=FECH:2235;MC=SO:0001627|intron_variant;ORIGIN=1;RS=2272783\tGT:GQ:DP:AD:VAF:PL\t1/1:67:58:0,58:1:70,70,0\n",
            "chr19\t12896366\t575670\tT\tC\t74.4\tPASS\tANN=C|missense_variant|MODERATE|GCDH|GCDH|transcript|NM_000159.4|protein_coding|8/12|c.797T>C|p.Met266Thr|874/1852|797/1317|266/438||,C|downstream_gene_variant|MODIFIER|SYCE2|SYCE2|transcript|NM_001105578.2|protein_coding||c.*2975A>G|||||2420|;AF_EXAC=0.00001;ALLELEID=574878;CLNDISDB=MedGen:CN169374|MedGen:C3661900|MONDO:MONDO:0009281,MedGen:C0268595,OMIM:231670,Orphanet:25;CLNDN=not_specified|not_provided|Glutaric_aciduria,_type_1;CLNHGVS=NC_000019.10:g.12896366T>C;CLNREVSTAT=criteria_provided,_conflicting_classifications;CLNSIG=Conflicting_classifications_of_pathogenicity;CLNSIGCONF=Pathogenic(1)|Likely_pathogenic(1)|Uncertain_significance(1);CLNVC=single_nucleotide_variant;CLNVCSO=SO:0001483;GENEINFO=GCDH:2639;MC=SO:0001583|missense_variant,SO:0001619|non-coding_transcript_variant;ORIGIN=1;RS=771650894\tGT:GQ:DP:AD:VAF:PL\t0/1:69:55:25,30:0.545455:74,0,70\n",
            "chr19\t44908684\t17864\tT\tC\t58.1\tPASS\tANN=C|missense_variant|MODERATE|APOE|APOE|transcript|NM_001302688.2|protein_coding|4/4|c.466T>C|p.Cys156Arg|539/1248|466/1032|156/343||,C|downstream_gene_variant|MODIFIER|TOMM40|TOMM40|transcript|NM_001128916.1|protein_coding||c.*5515T>C|||||4995|;AF_EXAC=0.18433;AF_TGP=0.15056;ALLELEID=32903;CLNDISDB=MONDO:MONDO:0007390,MedGen:C0750384,OMIM:122700|MedGen:C5779573|MONDO:MONDO:0011743,MedGen:C1847200,OMIM:606889,Orphanet:1020|Human_Phenotype_Ontology:HP:0002511,Human_Phenotype_Ontology:HP:0006878,Human_Phenotype_Ontology:HP:0007213,MONDO:MONDO:0004975,MeSH:D000544,MedGen:C0002395,Orphanet:1020|MONDO:MONDO:0007089,MedGen:C1863051,OMIM:104310,Orphanet:1020|MONDO:MONDO:0012725,MedGen:C2673196,OMIM:611771,Orphanet:329481|MedGen:C3661900;CLNDISDBINCL=.|MedGen:C4479660|MONDO:MONDO:0005439,MedGen:C0020445,OMIM:PS143890|MONDO:MONDO:0018473,MedGen:C0020479,OMIM:617347,Orphanet:412|MedGen:CN169374;CLNDN=Warfarin_response|Primary_degenerative_dementia_of_the_Alzheimer_type,_presenile_onset|Alzheimer_disease_4|Alzheimer_disease|Alzheimer_disease_2|Lipoprotein_glomerulopathy|not_provided;CLNDNINCL=APOE4(-)-FREIBURG|APOE5_VARIANT|Familial_hypercholesterolemia|Familial_type_3_hyperlipoproteinemia|not_specified;CLNHGVS=NC_000019.10:g.44908684T>C;CLNREVSTAT=criteria_provided,_conflicting_classifications;CLNSIG=Conflicting_classifications_of_pathogenicity|other|risk_factor;CLNSIGCONF=Pathogenic(1)|Likely_pathogenic(2)|Uncertain_significance(2);CLNSIGINCL=440870:not_provided|441267:Pathogenic|441268:Pathogenic/Likely_pathogenic|441269:association|666796:Uncertain_significance;CLNVC=single_nucleotide_variant;CLNVCSO=SO:0001483;CLNVI=ClinGen:CA127512|Genetic_Testing_Registry_(GTR):GTR000005674|Genetic_Testing_Registry_(GTR):GTR000325431|OMIM:107741.0008|OMIM:107741.0016|OMIM:107741.0022|OMIM:107741.0023|OMIM:107741.0025|UniProtKB:P02649#VAR_000652;GENEINFO=APOE:348;MC=SO:0001583|missense_variant;ORIGIN=1;RS=429358\tGT:GQ:DP:AD:VAF:PL\t0/1:57:121:67,54:0.446281:58,0,63\n"
          ]
        }
      ]
    },
    {
      "cell_type": "markdown",
      "source": [
        "Самым интересным мне показался этот, потому что делеции очень часто приводят к сдвигу рамки считывания"
      ],
      "metadata": {
        "id": "2WYasOPgYyE9"
      },
      "id": "2WYasOPgYyE9"
    },
    {
      "cell_type": "code",
      "source": [
        "! grep -i 'deletion' result.vcf"
      ],
      "metadata": {
        "colab": {
          "base_uri": "https://localhost:8080/"
        },
        "id": "oQghxK6CYXPT",
        "outputId": "2f88a3ef-13f5-4c91-a98d-d82d151e85cc"
      },
      "id": "oQghxK6CYXPT",
      "execution_count": 112,
      "outputs": [
        {
          "output_type": "stream",
          "name": "stdout",
          "text": [
            "chr1\t226737174\t1705896\tACTGCCGCTG\tA\t60.1\tPASS\tANN=A|disruptive_inframe_deletion|MODERATE|ITPKB|ITPKB|transcript|NM_002221.3|protein_coding|2/8|c.276_284delCAGCGGCAG|p.Ser93_Ser95del|624/6162|276/2841|92/946||;ALLELEID=1704216;CLNDISDB=MONDO:MONDO:0019452,MedGen:C1333046,Orphanet:86830;CLNDN=Myeloproliferative_neoplasm,_unclassifiable;CLNHGVS=NC_000001.11:g.226737176TGCCGCTGC[1];CLNREVSTAT=criteria_provided,_single_submitter;CLNSIG=Likely_pathogenic;CLNVC=Microsatellite;CLNVCSO=SO:0000289;GENEINFO=ITPKB:3707|LOC129932672:129932672;MC=SO:0001822|inframe_deletion;ORIGIN=2\tGT:GQ:DP:AD:VAF:PL\t0/1:56:46:17,29:0.630435:60,0,58\n"
          ]
        }
      ]
    },
    {
      "cell_type": "code",
      "source": [
        "!grep -i  -e 'CLNSIGCONF=Pathogenic' -e 'CLNSIG=Pathogenic' result.vcf | wc -l"
      ],
      "metadata": {
        "colab": {
          "base_uri": "https://localhost:8080/"
        },
        "id": "RAGsbd6eXqCs",
        "outputId": "eccfee02-16df-4801-cb57-06fb7fcb5099"
      },
      "id": "RAGsbd6eXqCs",
      "execution_count": 103,
      "outputs": [
        {
          "output_type": "stream",
          "name": "stdout",
          "text": [
            "9\n"
          ]
        }
      ]
    }
  ],
  "metadata": {
    "kernelspec": {
      "display_name": "Python 3 (ipykernel)",
      "language": "python",
      "name": "python3"
    },
    "language_info": {
      "codemirror_mode": {
        "name": "ipython",
        "version": 3
      },
      "file_extension": ".py",
      "mimetype": "text/x-python",
      "name": "python",
      "nbconvert_exporter": "python",
      "pygments_lexer": "ipython3",
      "version": "3.11.0"
    },
    "colab": {
      "provenance": []
    }
  },
  "nbformat": 4,
  "nbformat_minor": 5
}